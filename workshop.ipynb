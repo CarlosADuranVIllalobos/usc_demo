{
 "cells": [
  {
   "cell_type": "markdown",
   "id": "47f02bff",
   "metadata": {
    "id": "47f02bff"
   },
   "source": [
    "# Hands-on demonstration: You are the controller!\n",
    "\n",
    "A group task where the attendees will provide a suitable feeding strategy for a T-cell growth simulation.\n",
    "\n",
    "**Instructions**:\n",
    "1. Make sure you are inside the browser explorer in Jupyter notebook. With the file workshop.ipynb open.   \n",
    "2. In the menu at the top click \"Run All\" in the \"Cell\" Tab.  \n",
    "3. There are 2 case studies, move the glucose feed sliders up and down to modify the feeding strategy, you will have to take into account the next objectives:\n",
    "    \n",
    "- Maximise cells at harvest time.\n",
    "- Cells are still in the exponential phase (They are still growing).\n",
    "- Minimise media consumption.\n",
    "\n",
    "\n",
    "4. If you have extra time and are happy with your results, you can modify the first part in brackets of the following code:\n",
    "\n",
    "        var = [95, -20, 0, -30]   #Initial values[% viability, %inhibitor conc., % growth rate, start of the exhaustion] \n",
    "        \n",
    "        try changing the viability and the growth rate as in this example:\n",
    "    \n",
    "        var = [90, -20, 50, -30]   #Initial values[% viability, %inhibitor conc., % growth rate, start of the exhaustion]     "
   ]
  },
  {
   "cell_type": "markdown",
   "id": "395cfd21-1f6f-4487-bba0-42da2751652a",
   "metadata": {
    "id": "395cfd21-1f6f-4487-bba0-42da2751652a"
   },
   "source": [
    "## Scenario 1: Ideal case study\n",
    "\n",
    "This scenario involves the growth of CAR-T cells after CAR transduction in a bioreactor. It is an ideal case where we have full information about the Viable T-cells growth and how the glucose feed can affect it.\n",
    "\n",
    "**Objective**: Make adjustments in the Glucose feed to bring the viable T-cells graph closer to the exponential phase at the desired harvest point."
   ]
  },
  {
   "cell_type": "code",
   "execution_count": 1,
   "id": "e89381e3",
   "metadata": {
    "colab": {
     "base_uri": "https://localhost:8080/",
     "height": 1000
    },
    "executionInfo": {
     "elapsed": 35224,
     "status": "error",
     "timestamp": 1697554321253,
     "user": {
      "displayName": "Carlos Alberto Duran Villalobos",
      "userId": "05183836830991319277"
     },
     "user_tz": -60
    },
    "id": "e89381e3",
    "outputId": "67280994-a504-48e9-abd8-6d51f767a17f",
    "tags": []
   },
   "outputs": [
    {
     "data": {
      "application/vnd.jupyter.widget-view+json": {
       "model_id": "b4e99c9f19f446d9bff25cfa8ec9624e",
       "version_major": 2,
       "version_minor": 0
      },
      "text/plain": [
       "Box(children=(HTML(value='<h4>Glucose feed rate [mL/h]:</h4>', layout=Layout(height='30px', width='680px')), G…"
      ]
     },
     "metadata": {},
     "output_type": "display_data"
    },
    {
     "data": {
      "application/vnd.jupyter.widget-view+json": {
       "model_id": "49f1e96ed3334c79bf2ccbc51c06447f",
       "version_major": 2,
       "version_minor": 0
      },
      "text/plain": [
       "Output()"
      ]
     },
     "metadata": {},
     "output_type": "display_data"
    }
   ],
   "source": [
    "from install_lib import install_lib   # Import necessary libraries\n",
    "install_lib() # Check if libraries are installed\n",
    "from gui_interface import sim_ideal   # Import case study \n",
    "var = [95, -20, 0, -30]   #Initial values[% viability, % inhibitor conc., % growth rate, start of the exhaustion] \n",
    "sim_ideal(var) #Run the case study"
   ]
  }
 ],
 "metadata": {
  "celltoolbar": "Edit Metadata",
  "colab": {
   "provenance": []
  },
  "kernelspec": {
   "display_name": "Python 3 (ipykernel)",
   "language": "python",
   "name": "python3"
  },
  "language_info": {
   "codemirror_mode": {
    "name": "ipython",
    "version": 3
   },
   "file_extension": ".py",
   "mimetype": "text/x-python",
   "name": "python",
   "nbconvert_exporter": "python",
   "pygments_lexer": "ipython3",
   "version": "3.8.17"
  },
  "varInspector": {
   "cols": {
    "lenName": 16,
    "lenType": 16,
    "lenVar": 40
   },
   "kernels_config": {
    "python": {
     "delete_cmd_postfix": "",
     "delete_cmd_prefix": "del ",
     "library": "var_list.py",
     "varRefreshCmd": "print(var_dic_list())"
    },
    "r": {
     "delete_cmd_postfix": ") ",
     "delete_cmd_prefix": "rm(",
     "library": "var_list.r",
     "varRefreshCmd": "cat(var_dic_list()) "
    }
   },
   "types_to_exclude": [
    "module",
    "function",
    "builtin_function_or_method",
    "instance",
    "_Feature"
   ],
   "window_display": false
  }
 },
 "nbformat": 4,
 "nbformat_minor": 5
}
